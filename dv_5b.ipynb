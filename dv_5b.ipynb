{
  "nbformat": 4,
  "nbformat_minor": 0,
  "metadata": {
    "colab": {
      "provenance": []
    },
    "kernelspec": {
      "name": "python3",
      "display_name": "Python 3"
    },
    "language_info": {
      "name": "python"
    }
  },
  "cells": [
    {
      "cell_type": "code",
      "execution_count": null,
      "metadata": {
        "colab": {
          "base_uri": "https://localhost:8080/",
          "height": 542
        },
        "id": "peF7JuBEf2v6",
        "outputId": "82a45421-c973-4454-c326-4c75c86a65a1"
      },
      "outputs": [
        {
          "output_type": "display_data",
          "data": {
            "text/html": [
              "<html>\n",
              "<head><meta charset=\"utf-8\" /></head>\n",
              "<body>\n",
              "    <div>            <script src=\"https://cdnjs.cloudflare.com/ajax/libs/mathjax/2.7.5/MathJax.js?config=TeX-AMS-MML_SVG\"></script><script type=\"text/javascript\">if (window.MathJax && window.MathJax.Hub && window.MathJax.Hub.Config) {window.MathJax.Hub.Config({SVG: {font: \"STIX-Web\"}});}</script>                <script type=\"text/javascript\">window.PlotlyConfig = {MathJaxConfig: 'local'};</script>\n",
              "        <script charset=\"utf-8\" src=\"https://cdn.plot.ly/plotly-2.35.2.min.js\"></script>                <div id=\"6ab76c79-f827-4a94-945e-7ecd66bcd997\" class=\"plotly-graph-div\" style=\"height:525px; width:100%;\"></div>            <script type=\"text/javascript\">                                    window.PLOTLYENV=window.PLOTLYENV || {};                                    if (document.getElementById(\"6ab76c79-f827-4a94-945e-7ecd66bcd997\")) {                    Plotly.newPlot(                        \"6ab76c79-f827-4a94-945e-7ecd66bcd997\",                        [{\"branchvalues\":\"total\",\"customdata\":[[2649.1802549648937],[1054.9706932855179],[2512.0559945599853],[1862.0],[3077.0],[1072.457251793505],[3655.6986732113105],[1992.0004279299337],[3099.0],[2608.042776941007],[4246.8340419807355],[2179.053222521598],[1661.115905070074],[2398.965008825505],[3276.161597434508],[2217.1426857956503],[2674.0],[3966.0],[2968.159168036932],[4305.2672220165805],[1537.0530276740278],[3144.5402610520164],[2538.0711904721957],[3866.388431889672],[1676.4702398720192],[2359.00333291816],[3487.9555024769134],[2708.2450051513433],[1684.968427490414],[4230.0],[3664.0648413060953],[1306.0],[1792.0],[1218.2903472877065],[3378.348720925357],[1084.0],[2900.2061867267626],[3610.8358303704244],[3397.0],[3645.0],[2785.3705046825417],[2666.3207511379064],[1841.9886406518638],[2731.1223686795324],[2765.9766707626386],[2913.6675202672504],[2660.4511510604116],[1713.087465773237],[3437.037970702692],[2622.993428348149]],\"domain\":{\"x\":[0.0,1.0],\"y\":[0.0,1.0]},\"hovertemplate\":\"labels=%{label}\\u003cbr\\u003ePrice (INR)=%{value}\\u003cbr\\u003eparent=%{parent}\\u003cbr\\u003eid=%{id}\\u003cbr\\u003eArea (sqft)=%{color}\\u003cextra\\u003e\\u003c\\u002fextra\\u003e\",\"ids\":[\"Delhi\\u002fApartment\",\"Karnataka\\u002fApartment\",\"Maharashtra\\u002fApartment\",\"Rajasthan\\u002fApartment\",\"Tamil Nadu\\u002fApartment\",\"Telangana\\u002fApartment\",\"West Bengal\\u002fApartment\",\"Delhi\\u002fPenthouse\",\"Gujarat\\u002fPenthouse\",\"Karnataka\\u002fPenthouse\",\"Maharashtra\\u002fPenthouse\",\"Rajasthan\\u002fPenthouse\",\"Tamil Nadu\\u002fPenthouse\",\"Telangana\\u002fPenthouse\",\"Uttar Pradesh\\u002fPenthouse\",\"West Bengal\\u002fPenthouse\",\"Delhi\\u002fPlot\",\"Karnataka\\u002fPlot\",\"Maharashtra\\u002fPlot\",\"Rajasthan\\u002fPlot\",\"Telangana\\u002fPlot\",\"Uttar Pradesh\\u002fPlot\",\"West Bengal\\u002fPlot\",\"Delhi\\u002fStudio\",\"Gujarat\\u002fStudio\",\"Karnataka\\u002fStudio\",\"Maharashtra\\u002fStudio\",\"Rajasthan\\u002fStudio\",\"Tamil Nadu\\u002fStudio\",\"Telangana\\u002fStudio\",\"Uttar Pradesh\\u002fStudio\",\"West Bengal\\u002fStudio\",\"Delhi\\u002fVilla\",\"Gujarat\\u002fVilla\",\"Karnataka\\u002fVilla\",\"Maharashtra\\u002fVilla\",\"Rajasthan\\u002fVilla\",\"Tamil Nadu\\u002fVilla\",\"Telangana\\u002fVilla\",\"Uttar Pradesh\\u002fVilla\",\"West Bengal\\u002fVilla\",\"Delhi\",\"Gujarat\",\"Karnataka\",\"Maharashtra\",\"Rajasthan\",\"Tamil Nadu\",\"Telangana\",\"Uttar Pradesh\",\"West Bengal\"],\"labels\":[\"Apartment\",\"Apartment\",\"Apartment\",\"Apartment\",\"Apartment\",\"Apartment\",\"Apartment\",\"Penthouse\",\"Penthouse\",\"Penthouse\",\"Penthouse\",\"Penthouse\",\"Penthouse\",\"Penthouse\",\"Penthouse\",\"Penthouse\",\"Plot\",\"Plot\",\"Plot\",\"Plot\",\"Plot\",\"Plot\",\"Plot\",\"Studio\",\"Studio\",\"Studio\",\"Studio\",\"Studio\",\"Studio\",\"Studio\",\"Studio\",\"Studio\",\"Villa\",\"Villa\",\"Villa\",\"Villa\",\"Villa\",\"Villa\",\"Villa\",\"Villa\",\"Villa\",\"Delhi\",\"Gujarat\",\"Karnataka\",\"Maharashtra\",\"Rajasthan\",\"Tamil Nadu\",\"Telangana\",\"Uttar Pradesh\",\"West Bengal\"],\"marker\":{\"coloraxis\":\"coloraxis\",\"colors\":[2649.1802549648937,1054.9706932855179,2512.0559945599853,1862.0,3077.0,1072.457251793505,3655.6986732113105,1992.0004279299337,3099.0,2608.042776941007,4246.8340419807355,2179.053222521598,1661.115905070074,2398.965008825505,3276.161597434508,2217.1426857956503,2674.0,3966.0,2968.159168036932,4305.2672220165805,1537.0530276740278,3144.5402610520164,2538.0711904721957,3866.388431889672,1676.4702398720192,2359.00333291816,3487.9555024769134,2708.2450051513433,1684.968427490414,4230.0,3664.0648413060953,1306.0,1792.0,1218.2903472877065,3378.348720925357,1084.0,2900.2061867267626,3610.8358303704244,3397.0,3645.0,2785.3705046825417,2666.3207511379064,1841.9886406518638,2731.1223686795324,2765.9766707626386,2913.6675202672504,2660.4511510604116,1713.087465773237,3437.037970702692,2622.993428348149]},\"name\":\"\",\"parents\":[\"Delhi\",\"Karnataka\",\"Maharashtra\",\"Rajasthan\",\"Tamil Nadu\",\"Telangana\",\"West Bengal\",\"Delhi\",\"Gujarat\",\"Karnataka\",\"Maharashtra\",\"Rajasthan\",\"Tamil Nadu\",\"Telangana\",\"Uttar Pradesh\",\"West Bengal\",\"Delhi\",\"Karnataka\",\"Maharashtra\",\"Rajasthan\",\"Telangana\",\"Uttar Pradesh\",\"West Bengal\",\"Delhi\",\"Gujarat\",\"Karnataka\",\"Maharashtra\",\"Rajasthan\",\"Tamil Nadu\",\"Telangana\",\"Uttar Pradesh\",\"West Bengal\",\"Delhi\",\"Gujarat\",\"Karnataka\",\"Maharashtra\",\"Rajasthan\",\"Tamil Nadu\",\"Telangana\",\"Uttar Pradesh\",\"West Bengal\",\"\",\"\",\"\",\"\",\"\",\"\",\"\",\"\",\"\"],\"values\":[97265626,65070276,267986033,17863159,40062808,52913986,28085256,113362016,41960128,50764593,15060146,47931626,59211465,21135901,66617091,84540125,40962717,42707828,89905337,54839179,73380175,46552025,117895622,80216403,80298361,34684320,84583090,100442733,64670849,6887419,62543990,5635366,21125180,63257350,116626110,19916578,125071145,111080582,8898363,48731542,140047979,352931942,185515839,309853127,477451184,346147842,275025704,163215844,224444648,376204348],\"type\":\"sunburst\"}],                        {\"template\":{\"data\":{\"histogram2dcontour\":[{\"type\":\"histogram2dcontour\",\"colorbar\":{\"outlinewidth\":0,\"ticks\":\"\"},\"colorscale\":[[0.0,\"#0d0887\"],[0.1111111111111111,\"#46039f\"],[0.2222222222222222,\"#7201a8\"],[0.3333333333333333,\"#9c179e\"],[0.4444444444444444,\"#bd3786\"],[0.5555555555555556,\"#d8576b\"],[0.6666666666666666,\"#ed7953\"],[0.7777777777777778,\"#fb9f3a\"],[0.8888888888888888,\"#fdca26\"],[1.0,\"#f0f921\"]]}],\"choropleth\":[{\"type\":\"choropleth\",\"colorbar\":{\"outlinewidth\":0,\"ticks\":\"\"}}],\"histogram2d\":[{\"type\":\"histogram2d\",\"colorbar\":{\"outlinewidth\":0,\"ticks\":\"\"},\"colorscale\":[[0.0,\"#0d0887\"],[0.1111111111111111,\"#46039f\"],[0.2222222222222222,\"#7201a8\"],[0.3333333333333333,\"#9c179e\"],[0.4444444444444444,\"#bd3786\"],[0.5555555555555556,\"#d8576b\"],[0.6666666666666666,\"#ed7953\"],[0.7777777777777778,\"#fb9f3a\"],[0.8888888888888888,\"#fdca26\"],[1.0,\"#f0f921\"]]}],\"heatmap\":[{\"type\":\"heatmap\",\"colorbar\":{\"outlinewidth\":0,\"ticks\":\"\"},\"colorscale\":[[0.0,\"#0d0887\"],[0.1111111111111111,\"#46039f\"],[0.2222222222222222,\"#7201a8\"],[0.3333333333333333,\"#9c179e\"],[0.4444444444444444,\"#bd3786\"],[0.5555555555555556,\"#d8576b\"],[0.6666666666666666,\"#ed7953\"],[0.7777777777777778,\"#fb9f3a\"],[0.8888888888888888,\"#fdca26\"],[1.0,\"#f0f921\"]]}],\"heatmapgl\":[{\"type\":\"heatmapgl\",\"colorbar\":{\"outlinewidth\":0,\"ticks\":\"\"},\"colorscale\":[[0.0,\"#0d0887\"],[0.1111111111111111,\"#46039f\"],[0.2222222222222222,\"#7201a8\"],[0.3333333333333333,\"#9c179e\"],[0.4444444444444444,\"#bd3786\"],[0.5555555555555556,\"#d8576b\"],[0.6666666666666666,\"#ed7953\"],[0.7777777777777778,\"#fb9f3a\"],[0.8888888888888888,\"#fdca26\"],[1.0,\"#f0f921\"]]}],\"contourcarpet\":[{\"type\":\"contourcarpet\",\"colorbar\":{\"outlinewidth\":0,\"ticks\":\"\"}}],\"contour\":[{\"type\":\"contour\",\"colorbar\":{\"outlinewidth\":0,\"ticks\":\"\"},\"colorscale\":[[0.0,\"#0d0887\"],[0.1111111111111111,\"#46039f\"],[0.2222222222222222,\"#7201a8\"],[0.3333333333333333,\"#9c179e\"],[0.4444444444444444,\"#bd3786\"],[0.5555555555555556,\"#d8576b\"],[0.6666666666666666,\"#ed7953\"],[0.7777777777777778,\"#fb9f3a\"],[0.8888888888888888,\"#fdca26\"],[1.0,\"#f0f921\"]]}],\"surface\":[{\"type\":\"surface\",\"colorbar\":{\"outlinewidth\":0,\"ticks\":\"\"},\"colorscale\":[[0.0,\"#0d0887\"],[0.1111111111111111,\"#46039f\"],[0.2222222222222222,\"#7201a8\"],[0.3333333333333333,\"#9c179e\"],[0.4444444444444444,\"#bd3786\"],[0.5555555555555556,\"#d8576b\"],[0.6666666666666666,\"#ed7953\"],[0.7777777777777778,\"#fb9f3a\"],[0.8888888888888888,\"#fdca26\"],[1.0,\"#f0f921\"]]}],\"mesh3d\":[{\"type\":\"mesh3d\",\"colorbar\":{\"outlinewidth\":0,\"ticks\":\"\"}}],\"scatter\":[{\"fillpattern\":{\"fillmode\":\"overlay\",\"size\":10,\"solidity\":0.2},\"type\":\"scatter\"}],\"parcoords\":[{\"type\":\"parcoords\",\"line\":{\"colorbar\":{\"outlinewidth\":0,\"ticks\":\"\"}}}],\"scatterpolargl\":[{\"type\":\"scatterpolargl\",\"marker\":{\"colorbar\":{\"outlinewidth\":0,\"ticks\":\"\"}}}],\"bar\":[{\"error_x\":{\"color\":\"#2a3f5f\"},\"error_y\":{\"color\":\"#2a3f5f\"},\"marker\":{\"line\":{\"color\":\"#E5ECF6\",\"width\":0.5},\"pattern\":{\"fillmode\":\"overlay\",\"size\":10,\"solidity\":0.2}},\"type\":\"bar\"}],\"scattergeo\":[{\"type\":\"scattergeo\",\"marker\":{\"colorbar\":{\"outlinewidth\":0,\"ticks\":\"\"}}}],\"scatterpolar\":[{\"type\":\"scatterpolar\",\"marker\":{\"colorbar\":{\"outlinewidth\":0,\"ticks\":\"\"}}}],\"histogram\":[{\"marker\":{\"pattern\":{\"fillmode\":\"overlay\",\"size\":10,\"solidity\":0.2}},\"type\":\"histogram\"}],\"scattergl\":[{\"type\":\"scattergl\",\"marker\":{\"colorbar\":{\"outlinewidth\":0,\"ticks\":\"\"}}}],\"scatter3d\":[{\"type\":\"scatter3d\",\"line\":{\"colorbar\":{\"outlinewidth\":0,\"ticks\":\"\"}},\"marker\":{\"colorbar\":{\"outlinewidth\":0,\"ticks\":\"\"}}}],\"scattermapbox\":[{\"type\":\"scattermapbox\",\"marker\":{\"colorbar\":{\"outlinewidth\":0,\"ticks\":\"\"}}}],\"scatterternary\":[{\"type\":\"scatterternary\",\"marker\":{\"colorbar\":{\"outlinewidth\":0,\"ticks\":\"\"}}}],\"scattercarpet\":[{\"type\":\"scattercarpet\",\"marker\":{\"colorbar\":{\"outlinewidth\":0,\"ticks\":\"\"}}}],\"carpet\":[{\"aaxis\":{\"endlinecolor\":\"#2a3f5f\",\"gridcolor\":\"white\",\"linecolor\":\"white\",\"minorgridcolor\":\"white\",\"startlinecolor\":\"#2a3f5f\"},\"baxis\":{\"endlinecolor\":\"#2a3f5f\",\"gridcolor\":\"white\",\"linecolor\":\"white\",\"minorgridcolor\":\"white\",\"startlinecolor\":\"#2a3f5f\"},\"type\":\"carpet\"}],\"table\":[{\"cells\":{\"fill\":{\"color\":\"#EBF0F8\"},\"line\":{\"color\":\"white\"}},\"header\":{\"fill\":{\"color\":\"#C8D4E3\"},\"line\":{\"color\":\"white\"}},\"type\":\"table\"}],\"barpolar\":[{\"marker\":{\"line\":{\"color\":\"#E5ECF6\",\"width\":0.5},\"pattern\":{\"fillmode\":\"overlay\",\"size\":10,\"solidity\":0.2}},\"type\":\"barpolar\"}],\"pie\":[{\"automargin\":true,\"type\":\"pie\"}]},\"layout\":{\"autotypenumbers\":\"strict\",\"colorway\":[\"#636efa\",\"#EF553B\",\"#00cc96\",\"#ab63fa\",\"#FFA15A\",\"#19d3f3\",\"#FF6692\",\"#B6E880\",\"#FF97FF\",\"#FECB52\"],\"font\":{\"color\":\"#2a3f5f\"},\"hovermode\":\"closest\",\"hoverlabel\":{\"align\":\"left\"},\"paper_bgcolor\":\"white\",\"plot_bgcolor\":\"#E5ECF6\",\"polar\":{\"bgcolor\":\"#E5ECF6\",\"angularaxis\":{\"gridcolor\":\"white\",\"linecolor\":\"white\",\"ticks\":\"\"},\"radialaxis\":{\"gridcolor\":\"white\",\"linecolor\":\"white\",\"ticks\":\"\"}},\"ternary\":{\"bgcolor\":\"#E5ECF6\",\"aaxis\":{\"gridcolor\":\"white\",\"linecolor\":\"white\",\"ticks\":\"\"},\"baxis\":{\"gridcolor\":\"white\",\"linecolor\":\"white\",\"ticks\":\"\"},\"caxis\":{\"gridcolor\":\"white\",\"linecolor\":\"white\",\"ticks\":\"\"}},\"coloraxis\":{\"colorbar\":{\"outlinewidth\":0,\"ticks\":\"\"}},\"colorscale\":{\"sequential\":[[0.0,\"#0d0887\"],[0.1111111111111111,\"#46039f\"],[0.2222222222222222,\"#7201a8\"],[0.3333333333333333,\"#9c179e\"],[0.4444444444444444,\"#bd3786\"],[0.5555555555555556,\"#d8576b\"],[0.6666666666666666,\"#ed7953\"],[0.7777777777777778,\"#fb9f3a\"],[0.8888888888888888,\"#fdca26\"],[1.0,\"#f0f921\"]],\"sequentialminus\":[[0.0,\"#0d0887\"],[0.1111111111111111,\"#46039f\"],[0.2222222222222222,\"#7201a8\"],[0.3333333333333333,\"#9c179e\"],[0.4444444444444444,\"#bd3786\"],[0.5555555555555556,\"#d8576b\"],[0.6666666666666666,\"#ed7953\"],[0.7777777777777778,\"#fb9f3a\"],[0.8888888888888888,\"#fdca26\"],[1.0,\"#f0f921\"]],\"diverging\":[[0,\"#8e0152\"],[0.1,\"#c51b7d\"],[0.2,\"#de77ae\"],[0.3,\"#f1b6da\"],[0.4,\"#fde0ef\"],[0.5,\"#f7f7f7\"],[0.6,\"#e6f5d0\"],[0.7,\"#b8e186\"],[0.8,\"#7fbc41\"],[0.9,\"#4d9221\"],[1,\"#276419\"]]},\"xaxis\":{\"gridcolor\":\"white\",\"linecolor\":\"white\",\"ticks\":\"\",\"title\":{\"standoff\":15},\"zerolinecolor\":\"white\",\"automargin\":true,\"zerolinewidth\":2},\"yaxis\":{\"gridcolor\":\"white\",\"linecolor\":\"white\",\"ticks\":\"\",\"title\":{\"standoff\":15},\"zerolinecolor\":\"white\",\"automargin\":true,\"zerolinewidth\":2},\"scene\":{\"xaxis\":{\"backgroundcolor\":\"#E5ECF6\",\"gridcolor\":\"white\",\"linecolor\":\"white\",\"showbackground\":true,\"ticks\":\"\",\"zerolinecolor\":\"white\",\"gridwidth\":2},\"yaxis\":{\"backgroundcolor\":\"#E5ECF6\",\"gridcolor\":\"white\",\"linecolor\":\"white\",\"showbackground\":true,\"ticks\":\"\",\"zerolinecolor\":\"white\",\"gridwidth\":2},\"zaxis\":{\"backgroundcolor\":\"#E5ECF6\",\"gridcolor\":\"white\",\"linecolor\":\"white\",\"showbackground\":true,\"ticks\":\"\",\"zerolinecolor\":\"white\",\"gridwidth\":2}},\"shapedefaults\":{\"line\":{\"color\":\"#2a3f5f\"}},\"annotationdefaults\":{\"arrowcolor\":\"#2a3f5f\",\"arrowhead\":0,\"arrowwidth\":1},\"geo\":{\"bgcolor\":\"white\",\"landcolor\":\"#E5ECF6\",\"subunitcolor\":\"white\",\"showland\":true,\"showlakes\":true,\"lakecolor\":\"white\"},\"title\":{\"x\":0.05},\"mapbox\":{\"style\":\"light\"}}},\"coloraxis\":{\"colorbar\":{\"title\":{\"text\":\"Area (sqft)\"}},\"colorscale\":[[0.0,\"#0d0887\"],[0.1111111111111111,\"#46039f\"],[0.2222222222222222,\"#7201a8\"],[0.3333333333333333,\"#9c179e\"],[0.4444444444444444,\"#bd3786\"],[0.5555555555555556,\"#d8576b\"],[0.6666666666666666,\"#ed7953\"],[0.7777777777777778,\"#fb9f3a\"],[0.8888888888888888,\"#fdca26\"],[1.0,\"#f0f921\"]]},\"legend\":{\"tracegroupgap\":0},\"title\":{\"text\":\"Sunburst Chart of Real Estate Listings (State → Property Type)\"}},                        {\"responsive\": true}                    ).then(function(){\n",
              "                            \n",
              "var gd = document.getElementById('6ab76c79-f827-4a94-945e-7ecd66bcd997');\n",
              "var x = new MutationObserver(function (mutations, observer) {{\n",
              "        var display = window.getComputedStyle(gd).display;\n",
              "        if (!display || display === 'none') {{\n",
              "            console.log([gd, 'removed!']);\n",
              "            Plotly.purge(gd);\n",
              "            observer.disconnect();\n",
              "        }}\n",
              "}});\n",
              "\n",
              "// Listen for the removal of the full notebook cells\n",
              "var notebookContainer = gd.closest('#notebook-container');\n",
              "if (notebookContainer) {{\n",
              "    x.observe(notebookContainer, {childList: true});\n",
              "}}\n",
              "\n",
              "// Listen for the clearing of the current output cell\n",
              "var outputEl = gd.closest('.output');\n",
              "if (outputEl) {{\n",
              "    x.observe(outputEl, {childList: true});\n",
              "}}\n",
              "\n",
              "                        })                };                            </script>        </div>\n",
              "</body>\n",
              "</html>"
            ]
          },
          "metadata": {}
        }
      ],
      "source": [
        "# Step 1: Import Libraries\n",
        "import pandas as pd\n",
        "import plotly.express as px\n",
        "\n",
        "# Step 2: Load Dataset\n",
        "df = pd.read_csv(\"real_estate_listings_100.csv\")\n",
        "\n",
        "# Step 3: Clean Data (remove missing values in key columns)\n",
        "df = df.dropna(subset=['State', 'Property_Type', 'Price (INR)', 'Area (sqft)'])\n",
        "\n",
        "# Step 4: Sunburst Chart\n",
        "fig = px.sunburst(\n",
        "    df,\n",
        "    path=['State', 'Property_Type'],   # Hierarchy: State → Property Type\n",
        "    values='Price (INR)',              # Size based on Price\n",
        "    color='Area (sqft)',               # Color represents Area\n",
        "    title=\"Sunburst Chart of Real Estate Listings (State → Property Type)\"\n",
        ")\n",
        "\n",
        "# Step 5: Show Chart\n",
        "fig.show()\n"
      ]
    }
  ]
}